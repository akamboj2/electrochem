{
 "cells": [
  {
   "cell_type": "code",
   "execution_count": 1,
   "metadata": {},
   "outputs": [],
   "source": [
    "import pandas as pd\n",
    "import matplotlib.pyplot as plt"
   ]
  },
  {
   "cell_type": "code",
   "execution_count": 10,
   "metadata": {},
   "outputs": [
    {
     "name": "stdout",
     "output_type": "stream",
     "text": [
      "   mode  ox/red  error  control changes  Ns changes  counter inc.  Ns  \\\n",
      "0     3       0      1                0           1             0   0   \n",
      "1     3       0      0                0           0             0   0   \n",
      "2     3       0      0                0           0             0   0   \n",
      "3     3       0      0                0           0             0   0   \n",
      "4     3       0      0                0           0             0   0   \n",
      "\n",
      "   I Range  time/s  control/mA  ...  Capacitance discharge/�F  step time/s  \\\n",
      "0       39     0.0         0.0  ...                       0.0          0.0   \n",
      "1       39     1.0         0.0  ...                       0.0          0.0   \n",
      "2       39     2.0         0.0  ...                       0.0          0.0   \n",
      "3       39     3.0         0.0  ...                       0.0          0.0   \n",
      "4       39     4.0         0.0  ...                       0.0          0.0   \n",
      "\n",
      "   Q discharge/mA.h  Q charge/mA.h  Capacity/mA.h  Efficiency/%  cycle number  \\\n",
      "0               0.0            0.0            0.0           0.0           0.0   \n",
      "1               0.0            0.0            0.0           0.0           0.0   \n",
      "2               0.0            0.0            0.0           0.0           0.0   \n",
      "3               0.0            0.0            0.0           0.0           0.0   \n",
      "4               0.0            0.0            0.0           0.0           0.0   \n",
      "\n",
      "   P/W  R/Ohm  Unnamed: 29  \n",
      "0  0.0    0.0          NaN  \n",
      "1  0.0    0.0          NaN  \n",
      "2  0.0    0.0          NaN  \n",
      "3  0.0    0.0          NaN  \n",
      "4  0.0    0.0          NaN  \n",
      "\n",
      "[5 rows x 30 columns]\n"
     ]
    }
   ],
   "source": [
    "path = \"Entropy_Abhi_code\\IK_50LMRD_entropy_C01_cropped.mpt\"\n",
    "\n",
    "data = pd.read_csv(path, sep=\"\\t\")\n",
    "print(data.head())\n",
    "\n"
   ]
  },
  {
   "cell_type": "code",
   "execution_count": 11,
   "metadata": {},
   "outputs": [],
   "source": [
    "time = data[\"time/s\"].to_numpy()\n",
    "ewe = data[\"Ewe/V\"].to_numpy()"
   ]
  },
  {
   "cell_type": "code",
   "execution_count": 4,
   "metadata": {},
   "outputs": [],
   "source": [
    "# manually add to sys python path for pip import\n",
    "#NOTE: Run this first in galvani folder pip install -e \".\\`[tests`]\"\n",
    "\n",
    "import sys\n",
    "import os\n",
    "\n",
    "# Replace this with the actual path to your galvani directory\n",
    "galvani_path = 'C:/Users/abhik/Code/ishi_electrochem/galvani'\n",
    "\n",
    "# Add the path to sys.path if it's not already there\n",
    "if galvani_path not in sys.path:\n",
    "    sys.path.insert(0, galvani_path)\n",
    "\n",
    "# Now try to import MPRfile\n",
    "from galvani.BioLogic import MPRfile\n",
    "\n",
    "# You can print sys.path to verify the addition\n",
    "# print(sys.path)"
   ]
  },
  {
   "cell_type": "code",
   "execution_count": 3,
   "metadata": {},
   "outputs": [
    {
     "name": "stdout",
     "output_type": "stream",
     "text": [
      "version 0 col type [  0   1   0   2   0   3   0  21   0  31   0  65   0 131   0  39   0   4\n",
      "   0  20   0   6   0   8   0   7   0  13   0  74   0 211   1 212   1 123\n",
      "   0 124   0 125   0 126   0 182]\n",
      "colID in flag_map 1 ('mode', 3, <class 'numpy.uint8'>)\n",
      "colID in flag_map 2 ('ox/red', 4, <class 'numpy.bool_'>)\n",
      "colID in flag_map 3 ('error', 8, <class 'numpy.bool_'>)\n",
      "colID in flag_map 21 ('control changes', 16, <class 'numpy.bool_'>)\n",
      "colID in flag_map 31 ('Ns changes', 32, <class 'numpy.bool_'>)\n",
      "colID in flag_map 65 ('counter inc.', 128, <class 'numpy.bool_'>)\n",
      "colID in dtype_map 131 ('Ns', '<u2')\n",
      "colID in dtype_map 39 ('I Range', '<u2')\n",
      "colID in dtype_map 4 ('time/s', '<f8')\n",
      "colID in dtype_map 20 ('control/mA', '<f4')\n",
      "colID in dtype_map 6 ('Ewe/V', '<f4')\n",
      "colID in dtype_map 8 ('I/mA', '<f4')\n",
      "colID in dtype_map 7 ('dq/mA.h', '<f8')\n",
      "colID in dtype_map 13 ('(Q-Qo)/mA.h', '<f8')\n",
      "colID in dtype_map 74 ('|Energy|/W.h', '<f8')\n",
      "colID in dtype_map 211 ('Q charge/discharge/mA.h', '<f8')\n",
      "colID in dtype_map 212 ('half cycle', '<u4')\n",
      "colID in dtype_map 123 ('Energy charge/W.h', '<f8')\n",
      "colID in dtype_map 124 ('Energy discharge/W.h', '<f8')\n",
      "colID in dtype_map 125 ('Capacitance charge/µF', '<f8')\n",
      "colID in dtype_map 126 ('Capacitance discharge/µF', '<f8')\n",
      "colID in dtype_map 182 ('step time/s', '<f8')\n",
      "All columns in the data:\n",
      "flags\n",
      "Ns\n",
      "I Range\n",
      "time/s\n",
      "control/mA\n",
      "Ewe/V\n",
      "I/mA\n",
      "dq/mA.h\n",
      "(Q-Qo)/mA.h\n",
      "|Energy|/W.h\n",
      "Q charge/discharge/mA.h\n",
      "half cycle\n",
      "Energy charge/W.h\n",
      "Energy discharge/W.h\n",
      "Capacitance charge/µF\n",
      "Capacitance discharge/µF\n",
      "step time/s\n"
     ]
    },
    {
     "data": {
      "image/png": "[encoded data removed]",
      "text/plain": [
       "<Figure size 1000x600 with 1 Axes>"
      ]
     },
     "metadata": {},
     "output_type": "display_data"
    }
   ],
   "source": [
    "# Read the MPR file\n",
    "file_path = 'Entropy_Abhi_code\\IK_50LMRD_entropy_C01.mpr'  # Replace with your actual file path\n",
    "mpr_file = MPRfile(file_path)\n",
    "\n",
    "# Extract data\n",
    "data = mpr_file.data\n",
    "\n",
    "# Get Time and Ewe/V columns\n",
    "time = data['time/s']\n",
    "ewe = data['Ewe/V']\n",
    "# print all columns\n",
    "# Print all column names\n",
    "print(\"All columns in the data:\")\n",
    "for column in data.dtype.names:\n",
    "    print(column)\n",
    "# capacity = data['Capacity/mA.h']\n",
    "\n",
    "# Create the plot\n",
    "plt.figure(figsize=(10, 6))\n",
    "plt.plot(time, ewe)\n",
    "plt.xlabel('Time (s)')\n",
    "plt.ylabel('Ewe/V')\n",
    "plt.title('Ewe/V vs Time')\n",
    "plt.grid(True)\n",
    "\n",
    "# Show the plot\n",
    "plt.show()\n",
    "\n",
    "# Optionally, save the plot\n",
    "# plt.savefig('ewe_vs_time.png')"
   ]
  },
  {
   "cell_type": "code",
   "execution_count": 9,
   "metadata": {},
   "outputs": [
    {
     "name": "stdout",
     "output_type": "stream",
     "text": [
      "1083688\n",
      "1083688\n",
      "302\n",
      "302\n",
      "0            0.0\n",
      "3600         1.0\n",
      "7200         2.0\n",
      "10800        3.0\n",
      "14400        4.0\n",
      "           ...  \n",
      "1069200    297.0\n",
      "1072800    298.0\n",
      "1076400    299.0\n",
      "1080000    300.0\n",
      "1083600    301.0\n",
      "Name: time/s, Length: 302, dtype: float64\n"
     ]
    }
   ],
   "source": [
    "print(len(ewe))\n",
    "print(len(time))\n",
    "# print(len(capacity))\n",
    "\n",
    "# Downsample ewe and time to give a reading every hour\n",
    "ewe_hourly = ewe[::3600]\n",
    "time_hourly = time[::3600]\n",
    "# capacity_hourly = capacity[::3600]\n",
    "time_hourly = time_hourly/3600\n",
    "time_hourly = time_hourly.round()\n",
    "\n",
    "print(len(ewe_hourly))\n",
    "print(len(time_hourly))\n",
    "print(time_hourly)"
   ]
  },
  {
   "cell_type": "code",
   "execution_count": null,
   "metadata": {},
   "outputs": [],
   "source": [
    "# Create a pandas dataframe that will outputted to a csv with the following headers:\n",
    "# Time (h)\tPeak  potential\tTemperature\tOCV\tdE/dT\tdS\tCapacity (mAh)\tCapacity corresponding to peak  potential (mAh/g)\n",
    "\n",
    "# Create a dictionary with the data\n",
    "times = []\n",
    "peak_potential = []\n",
    "temp = []\n",
    "OCV = []\n",
    "dE_dT = []\n",
    "dS = []\n",
    "capacity_peak_pot = []\n",
    "mass = 0.0121884 # mass of the electrode in g\n",
    "for v, t, c in zip(ewe_hourly, time_hourly, capacity_hourly):\n",
    "    if t < 12: # ignore the first 12 hours\n",
    "        continue\n",
    "    if t %6==1:\n",
    "        times.append(t)\n",
    "        peak_potential.append(v)\n",
    "        temp.append(' ')\n",
    "        OCV.append(' ')\n",
    "        capacity_peak_pot.append(c/mass)\n",
    "        \n",
    "\n",
    "        \n",
    "\n",
    "data_dict = {\n",
    "    'Time (h)': times,\n",
    "    'Peak potential': peak_potential,\n",
    "    'Temperature': temp,\n",
    "    'OCV': OCV,\n",
    "    'dE/dT': dE_dT,\n",
    "    'dS': dS,\n",
    "    'Capacity corresponding to peak  potential (mAh/g)': capacity_peak_pot\n",
    "}\n"
   ]
  },
  {
   "cell_type": "code",
   "execution_count": 6,
   "metadata": {},
   "outputs": [
    {
     "ename": "KeyError",
     "evalue": "'Capacitance charge/ï¿½F'",
     "output_type": "error",
     "traceback": [
      "\u001b[1;31m---------------------------------------------------------------------------\u001b[0m",
      "\u001b[1;31mKeyError\u001b[0m                                  Traceback (most recent call last)",
      "Cell \u001b[1;32mIn[6], line 12\u001b[0m\n\u001b[0;32m      7\u001b[0m file_path \u001b[38;5;241m=\u001b[39m \u001b[38;5;124m'\u001b[39m\u001b[38;5;124mEntropy_Abhi_code/IK_50LMRD_entropy_C01.mpt\u001b[39m\u001b[38;5;124m'\u001b[39m\n\u001b[0;32m      8\u001b[0m \u001b[38;5;66;03m# yadg extract eclab.mpr example_file.mpr output_file.nc\u001b[39;00m\n\u001b[0;32m      9\u001b[0m \n\u001b[0;32m     10\u001b[0m \u001b[38;5;66;03m# Extract data from the MPR file\u001b[39;00m\n\u001b[0;32m     11\u001b[0m \u001b[38;5;66;03m# datagram = yadg.extractors.extract(filetype=\"eclab.mpr\", path=file_path)\u001b[39;00m\n\u001b[1;32m---> 12\u001b[0m datagram \u001b[38;5;241m=\u001b[39m \u001b[43myadg\u001b[49m\u001b[38;5;241;43m.\u001b[39;49m\u001b[43mextractors\u001b[49m\u001b[38;5;241;43m.\u001b[39;49m\u001b[43mextract\u001b[49m\u001b[43m(\u001b[49m\u001b[43mfiletype\u001b[49m\u001b[38;5;241;43m=\u001b[39;49m\u001b[38;5;124;43m\"\u001b[39;49m\u001b[38;5;124;43meclab.mpt\u001b[39;49m\u001b[38;5;124;43m\"\u001b[39;49m\u001b[43m,\u001b[49m\u001b[43m \u001b[49m\u001b[43mpath\u001b[49m\u001b[38;5;241;43m=\u001b[39;49m\u001b[43mfile_path\u001b[49m\u001b[43m)\u001b[49m\n\u001b[0;32m     14\u001b[0m \u001b[38;5;66;03m# Print the structure of the datagram (optional, for debugging)\u001b[39;00m\n\u001b[0;32m     15\u001b[0m \u001b[38;5;28mprint\u001b[39m(json\u001b[38;5;241m.\u001b[39mdumps(datagram, indent\u001b[38;5;241m=\u001b[39m\u001b[38;5;241m2\u001b[39m))\n",
      "File \u001b[1;32m~\\AppData\\Local\\Packages\\PythonSoftwareFoundation.Python.3.11_qbz5n2kfra8p0\\LocalCache\\local-packages\\Python311\\site-packages\\yadg\\extractors\\__init__.py:54\u001b[0m, in \u001b[0;36mextract\u001b[1;34m(filetype, path, timezone, encoding, locale, **kwargs)\u001b[0m\n\u001b[0;32m     20\u001b[0m \u001b[38;5;250m\u001b[39m\u001b[38;5;124;03m\"\"\"\u001b[39;00m\n\u001b[0;32m     21\u001b[0m \u001b[38;5;124;03mExtract data and metadata from a path using the supplied filetype.\u001b[39;00m\n\u001b[0;32m     22\u001b[0m \n\u001b[1;32m   (...)\u001b[0m\n\u001b[0;32m     43\u001b[0m \n\u001b[0;32m     44\u001b[0m \u001b[38;5;124;03m\"\"\"\u001b[39;00m\n\u001b[0;32m     45\u001b[0m extractor \u001b[38;5;241m=\u001b[39m ExtractorFactory(\n\u001b[0;32m     46\u001b[0m     extractor\u001b[38;5;241m=\u001b[39m{\n\u001b[0;32m     47\u001b[0m         \u001b[38;5;124m\"\u001b[39m\u001b[38;5;124mfiletype\u001b[39m\u001b[38;5;124m\"\u001b[39m: filetype,\n\u001b[1;32m   (...)\u001b[0m\n\u001b[0;32m     51\u001b[0m     }\n\u001b[0;32m     52\u001b[0m )\u001b[38;5;241m.\u001b[39mextractor\n\u001b[1;32m---> 54\u001b[0m \u001b[38;5;28;01mreturn\u001b[39;00m \u001b[43mextract_from_path\u001b[49m\u001b[43m(\u001b[49m\u001b[43mpath\u001b[49m\u001b[43m,\u001b[49m\u001b[43m \u001b[49m\u001b[43mextractor\u001b[49m\u001b[43m)\u001b[49m\n",
      "File \u001b[1;32m~\\AppData\\Local\\Packages\\PythonSoftwareFoundation.Python.3.11_qbz5n2kfra8p0\\LocalCache\\local-packages\\Python311\\site-packages\\yadg\\extractors\\__init__.py:75\u001b[0m, in \u001b[0;36mextract_from_path\u001b[1;34m(path, extractor)\u001b[0m\n\u001b[0;32m     72\u001b[0m func \u001b[38;5;241m=\u001b[39m \u001b[38;5;28mgetattr\u001b[39m(m, \u001b[38;5;124m\"\u001b[39m\u001b[38;5;124mextract\u001b[39m\u001b[38;5;124m\"\u001b[39m)\n\u001b[0;32m     74\u001b[0m \u001b[38;5;66;03m# Func should always return a datatree.DataTree\u001b[39;00m\n\u001b[1;32m---> 75\u001b[0m ret: DataTree \u001b[38;5;241m=\u001b[39m \u001b[43mfunc\u001b[49m\u001b[43m(\u001b[49m\u001b[43mfn\u001b[49m\u001b[38;5;241;43m=\u001b[39;49m\u001b[43mpath\u001b[49m\u001b[43m,\u001b[49m\u001b[43m \u001b[49m\u001b[38;5;241;43m*\u001b[39;49m\u001b[38;5;241;43m*\u001b[39;49m\u001b[38;5;28;43mvars\u001b[39;49m\u001b[43m(\u001b[49m\u001b[43mextractor\u001b[49m\u001b[43m)\u001b[49m\u001b[43m)\u001b[49m\n\u001b[0;32m     76\u001b[0m jsonize_orig_meta(ret)\n\u001b[0;32m     78\u001b[0m ret\u001b[38;5;241m.\u001b[39mattrs\u001b[38;5;241m.\u001b[39mupdate(\n\u001b[0;32m     79\u001b[0m     {\n\u001b[0;32m     80\u001b[0m         \u001b[38;5;124m\"\u001b[39m\u001b[38;5;124myadg_provenance\u001b[39m\u001b[38;5;124m\"\u001b[39m: \u001b[38;5;124m\"\u001b[39m\u001b[38;5;124myadg extract\u001b[39m\u001b[38;5;124m\"\u001b[39m,\n\u001b[1;32m   (...)\u001b[0m\n\u001b[0;32m     84\u001b[0m     }\n\u001b[0;32m     85\u001b[0m )\n",
      "File \u001b[1;32m~\\AppData\\Local\\Packages\\PythonSoftwareFoundation.Python.3.11_qbz5n2kfra8p0\\LocalCache\\local-packages\\Python311\\site-packages\\yadg\\extractors\\eclab\\mpt.py:315\u001b[0m, in \u001b[0;36mextract\u001b[1;34m(fn, encoding, locale, timezone, **kwargs)\u001b[0m\n\u001b[0;32m    311\u001b[0m \u001b[38;5;66;03m# Arrange all the data into the correct format.\u001b[39;00m\n\u001b[0;32m    312\u001b[0m \u001b[38;5;66;03m# TODO: Metadata could be handled in a nicer way.\u001b[39;00m\n\u001b[0;32m    313\u001b[0m metadata \u001b[38;5;241m=\u001b[39m {\u001b[38;5;124m\"\u001b[39m\u001b[38;5;124msettings\u001b[39m\u001b[38;5;124m\"\u001b[39m: settings, \u001b[38;5;124m\"\u001b[39m\u001b[38;5;124mparams\u001b[39m\u001b[38;5;124m\"\u001b[39m: params}\n\u001b[1;32m--> 315\u001b[0m ds \u001b[38;5;241m=\u001b[39m \u001b[43mprocess_data\u001b[49m\u001b[43m(\u001b[49m\u001b[43mdata_lines\u001b[49m\u001b[43m,\u001b[49m\u001b[43m \u001b[49m\u001b[43mEranges\u001b[49m\u001b[43m,\u001b[49m\u001b[43m \u001b[49m\u001b[43mIranges\u001b[49m\u001b[43m,\u001b[49m\u001b[43m \u001b[49m\u001b[43mcontrols\u001b[49m\u001b[43m,\u001b[49m\u001b[43m \u001b[49m\u001b[43mlocale\u001b[49m\u001b[43m)\u001b[49m\n\u001b[0;32m    316\u001b[0m \u001b[38;5;28;01mif\u001b[39;00m \u001b[38;5;124m\"\u001b[39m\u001b[38;5;124mtime\u001b[39m\u001b[38;5;124m\"\u001b[39m \u001b[38;5;129;01min\u001b[39;00m ds:\n\u001b[0;32m    317\u001b[0m     ds[\u001b[38;5;124m\"\u001b[39m\u001b[38;5;124muts\u001b[39m\u001b[38;5;124m\"\u001b[39m] \u001b[38;5;241m=\u001b[39m ds[\u001b[38;5;124m\"\u001b[39m\u001b[38;5;124mtime\u001b[39m\u001b[38;5;124m\"\u001b[39m] \u001b[38;5;241m+\u001b[39m start_time\n",
      "File \u001b[1;32m~\\AppData\\Local\\Packages\\PythonSoftwareFoundation.Python.3.11_qbz5n2kfra8p0\\LocalCache\\local-packages\\Python311\\site-packages\\yadg\\extractors\\eclab\\mpt.py:213\u001b[0m, in \u001b[0;36mprocess_data\u001b[1;34m(lines, Eranges, Iranges, controls, locale)\u001b[0m\n\u001b[0;32m    211\u001b[0m columns \u001b[38;5;241m=\u001b[39m \u001b[38;5;28mlist\u001b[39m()\n\u001b[0;32m    212\u001b[0m \u001b[38;5;28;01mfor\u001b[39;00m n \u001b[38;5;129;01min\u001b[39;00m names:\n\u001b[1;32m--> 213\u001b[0m     c, u \u001b[38;5;241m=\u001b[39m \u001b[43mcolumn_units\u001b[49m\u001b[43m[\u001b[49m\u001b[43mn\u001b[49m\u001b[43m]\u001b[49m\n\u001b[0;32m    214\u001b[0m     \u001b[38;5;28;01mif\u001b[39;00m c \u001b[38;5;129;01min\u001b[39;00m columns:\n\u001b[0;32m    215\u001b[0m         logger\u001b[38;5;241m.\u001b[39mwarning(\u001b[38;5;124m\"\u001b[39m\u001b[38;5;124mDuplicate column \u001b[39m\u001b[38;5;124m'\u001b[39m\u001b[38;5;132;01m%s\u001b[39;00m\u001b[38;5;124m'\u001b[39m\u001b[38;5;124m with unit \u001b[39m\u001b[38;5;124m'\u001b[39m\u001b[38;5;132;01m%s\u001b[39;00m\u001b[38;5;124m'\u001b[39m\u001b[38;5;124m.\u001b[39m\u001b[38;5;124m\"\u001b[39m, c, u)\n",
      "\u001b[1;31mKeyError\u001b[0m: 'Capacitance charge/ï¿½F'"
     ]
    }
   ],
   "source": [
    "import yadg\n",
    "import pandas as pd\n",
    "import matplotlib.pyplot as plt\n",
    "import json\n",
    "\n",
    "# Path to your MPR file\n",
    "file_path = 'Entropy_Abhi_code/IK_50LMRD_entropy_C01.mpt'\n",
    "# yadg extract eclab.mpr example_file.mpr output_file.nc\n",
    "\n",
    "# Extract data from the MPR file\n",
    "# datagram = yadg.extractors.extract(filetype=\"eclab.mpr\", path=file_path)\n",
    "datagram = yadg.extractors.extract(filetype=\"eclab.mpt\", path=file_path)\n",
    "\n",
    "# Print the structure of the datagram (optional, for debugging)\n",
    "print(json.dumps(datagram, indent=2))\n",
    "\n",
    "# Convert the datagram to a pandas DataFrame\n",
    "# Assuming the data is in the 'data' key of the datagram\n",
    "df = pd.DataFrame(datagram['data'])\n",
    "\n",
    "# Print column names\n",
    "print(\"Columns in the data:\")\n",
    "print(df.columns)\n",
    "\n",
    "# Print the first few"
   ]
  }
 ],
 "metadata": {
  "kernelspec": {
   "display_name": "Python 3",
   "language": "python",
   "name": "python3"
  },
  "language_info": {
   "codemirror_mode": {
    "name": "ipython",
    "version": 3
   },
   "file_extension": ".py",
   "mimetype": "text/x-python",
   "name": "python",
   "nbconvert_exporter": "python",
   "pygments_lexer": "ipython3",
   "version": "3.11.9"
  }
 },
 "nbformat": 4,
 "nbformat_minor": 2
}
